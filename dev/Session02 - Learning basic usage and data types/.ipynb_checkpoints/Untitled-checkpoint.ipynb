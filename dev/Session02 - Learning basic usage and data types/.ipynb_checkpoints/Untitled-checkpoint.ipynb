{
 "cells": [
  {
   "cell_type": "code",
   "execution_count": null,
   "metadata": {},
   "outputs": [],
   "source": [
    "### score 변수를 80으로 선언수 90점이상 a, 80~90점 b 이외 c 점수로 판단하는 조건문 작성 ###"
   ]
  },
  {
   "cell_type": "code",
   "execution_count": 6,
   "metadata": {},
   "outputs": [
    {
     "name": "stdout",
     "output_type": "stream",
     "text": [
      "B 등급\n"
     ]
    }
   ],
   "source": [
    "import numpy as np\n",
    "#score = np.linspace(1,100, num=50)\n",
    "score = 80\n",
    "if score >= 90:\n",
    "    print(\"A 등급\")\n",
    "elif score >= 80:\n",
    "    print(\"B 등급\")\n",
    "\n",
    "    else:\n",
    "    print(\"C 등급\")"
   ]
  },
  {
   "cell_type": "code",
   "execution_count": 42,
   "metadata": {},
   "outputs": [
    {
     "data": {
      "text/plain": [
       "8"
      ]
     },
     "execution_count": 42,
     "metadata": {},
     "output_type": "execute_result"
    }
   ],
   "source": [
    "def add(x=10,y=10):\n",
    "    return x+y\n",
    "\n",
    "add(5,3)"
   ]
  },
  {
   "cell_type": "code",
   "execution_count": 43,
   "metadata": {},
   "outputs": [],
   "source": [
    "a = \"10\""
   ]
  },
  {
   "cell_type": "code",
   "execution_count": 45,
   "metadata": {},
   "outputs": [
    {
     "data": {
      "text/plain": [
       "10"
      ]
     },
     "execution_count": 45,
     "metadata": {},
     "output_type": "execute_result"
    }
   ],
   "source": [
    "int(a)"
   ]
  },
  {
   "cell_type": "raw",
   "metadata": {},
   "source": [
    "name = input(\"이름 넣여주쇼\")\n",
    "int(name)"
   ]
  },
  {
   "cell_type": "code",
   "execution_count": null,
   "metadata": {},
   "outputs": [],
   "source": []
  },
  {
   "cell_type": "code",
   "execution_count": null,
   "metadata": {},
   "outputs": [],
   "source": []
  },
  {
   "cell_type": "code",
   "execution_count": null,
   "metadata": {},
   "outputs": [],
   "source": []
  },
  {
   "cell_type": "code",
   "execution_count": null,
   "metadata": {},
   "outputs": [],
   "source": []
  },
  {
   "cell_type": "code",
   "execution_count": null,
   "metadata": {},
   "outputs": [],
   "source": []
  },
  {
   "cell_type": "code",
   "execution_count": null,
   "metadata": {},
   "outputs": [],
   "source": []
  },
  {
   "cell_type": "code",
   "execution_count": null,
   "metadata": {},
   "outputs": [],
   "source": []
  },
  {
   "cell_type": "code",
   "execution_count": 40,
   "metadata": {},
   "outputs": [
    {
     "name": "stdout",
     "output_type": "stream",
     "text": [
      "점수 :  65.00426571470089  , C 등급\n",
      "점수 :  63.056556602710515  , C 등급\n",
      "점수 :  98.34910360462891  , A 등급\n",
      "점수 :  18.989283441878722  , C 등급\n",
      "점수 :  32.365659007061396  , C 등급\n",
      "점수 :  98.01319232889527  , A 등급\n",
      "점수 :  8.195919960716036  , C 등급\n",
      "점수 :  11.066649317316823  , C 등급\n",
      "점수 :  17.714275703700334  , C 등급\n",
      "점수 :  37.424330729865716  , C 등급\n",
      "점수 :  53.812684006328325  , C 등급\n",
      "점수 :  91.8452910505806  , A 등급\n",
      "점수 :  86.85143636325208  , B 등급\n",
      "점수 :  60.64450518247399  , C 등급\n",
      "점수 :  89.85157929046322  , B 등급\n",
      "점수 :  11.093993375437783  , C 등급\n",
      "점수 :  99.8653096215609  , A 등급\n",
      "점수 :  86.61296839207616  , B 등급\n",
      "점수 :  4.381931150422602  , C 등급\n",
      "점수 :  64.69412866473324  , C 등급\n",
      "점수 :  3.538634003430563  , C 등급\n",
      "점수 :  52.92206773265473  , C 등급\n",
      "점수 :  61.11165637880451  , C 등급\n",
      "점수 :  98.28925402163156  , A 등급\n",
      "점수 :  7.401738789738454  , C 등급\n",
      "점수 :  42.23388156819969  , C 등급\n",
      "점수 :  94.20477311428829  , A 등급\n",
      "점수 :  25.538550183477614  , C 등급\n",
      "점수 :  97.59951549067794  , A 등급\n",
      "점수 :  76.79295283836004  , C 등급\n",
      "점수 :  93.19353266513481  , A 등급\n",
      "점수 :  74.49173143039805  , C 등급\n",
      "점수 :  83.87301784379119  , B 등급\n",
      "점수 :  94.08494109743827  , A 등급\n",
      "점수 :  56.350324111542406  , C 등급\n",
      "점수 :  12.435177214025273  , C 등급\n",
      "점수 :  29.97577310264543  , C 등급\n",
      "점수 :  88.51858624616415  , B 등급\n",
      "점수 :  41.075950865705835  , C 등급\n",
      "점수 :  7.514259625123765  , C 등급\n",
      "점수 :  43.37498340547076  , C 등급\n",
      "점수 :  15.932011812659741  , C 등급\n",
      "점수 :  67.89934327179294  , C 등급\n",
      "점수 :  50.49443759019007  , C 등급\n",
      "점수 :  85.6283021222701  , B 등급\n",
      "점수 :  81.59841139288758  , B 등급\n",
      "점수 :  19.256795392271997  , C 등급\n",
      "점수 :  77.36365745412726  , C 등급\n",
      "점수 :  11.831058240263314  , C 등급\n",
      "점수 :  39.4921989206506  , C 등급\n",
      "점수 :  99.90474422728109  , A 등급\n",
      "점수 :  65.48857495350357  , C 등급\n",
      "점수 :  54.58457345430686  , C 등급\n",
      "점수 :  59.025744145224365  , C 등급\n",
      "점수 :  63.250053946734965  , C 등급\n",
      "점수 :  55.85046974614202  , C 등급\n",
      "점수 :  7.328315322910095  , C 등급\n",
      "점수 :  42.016289451887914  , C 등급\n",
      "점수 :  29.277458481752628  , C 등급\n",
      "점수 :  84.0632752709467  , B 등급\n",
      "점수 :  49.71095046938743  , C 등급\n",
      "점수 :  99.64120464890027  , A 등급\n",
      "점수 :  34.86952184664099  , C 등급\n",
      "점수 :  40.001172373713764  , C 등급\n",
      "점수 :  73.68711277781442  , C 등급\n",
      "점수 :  90.37594367270178  , A 등급\n",
      "점수 :  3.046038501620263  , C 등급\n",
      "점수 :  69.46524359019963  , C 등급\n",
      "점수 :  66.37695458371775  , C 등급\n",
      "점수 :  88.47745463445027  , B 등급\n",
      "점수 :  65.52254514434244  , C 등급\n",
      "점수 :  89.48191415904911  , B 등급\n",
      "점수 :  72.02605105926722  , C 등급\n",
      "점수 :  63.68804979626594  , C 등급\n",
      "점수 :  84.46639216001354  , B 등급\n",
      "점수 :  69.08789446816331  , C 등급\n",
      "점수 :  86.60976445526545  , B 등급\n",
      "점수 :  81.0287372791358  , B 등급\n",
      "점수 :  42.9569185698675  , C 등급\n",
      "점수 :  16.475187189756912  , C 등급\n",
      "점수 :  16.776334979186803  , C 등급\n",
      "점수 :  76.92928931130172  , C 등급\n",
      "점수 :  30.62371207372626  , C 등급\n",
      "점수 :  72.92372718902465  , C 등급\n",
      "점수 :  66.91220309872779  , C 등급\n",
      "점수 :  36.80576821008994  , C 등급\n",
      "점수 :  96.65498018617754  , A 등급\n",
      "점수 :  96.57830597572945  , A 등급\n",
      "점수 :  57.09392156373239  , C 등급\n",
      "점수 :  16.54195803891396  , C 등급\n",
      "점수 :  31.484826360245254  , C 등급\n",
      "점수 :  12.761632509587207  , C 등급\n",
      "점수 :  81.07703788659552  , B 등급\n",
      "점수 :  81.45406873895492  , B 등급\n",
      "점수 :  38.57808825133455  , C 등급\n",
      "점수 :  61.46649792866635  , C 등급\n",
      "점수 :  19.981328565976142  , C 등급\n",
      "점수 :  76.55815305929924  , C 등급\n",
      "점수 :  46.9624318293168  , C 등급\n"
     ]
    }
   ],
   "source": [
    "import numpy as np\n",
    "#score = np.linspace(1,100, num=50)\n",
    "score = np.random.rand(100)*100\n",
    "for i in range(1,100):\n",
    "    if score[i] >= 90:\n",
    "        print(\"점수 : \", score[i],\" , A 등급\")\n",
    "    elif score[i] >= 80:\n",
    "        print(\"점수 : \", score[i],\" , B 등급\")\n",
    "    else:   \n",
    "        print(\"점수 : \", score[i],\" , C 등급\")\n",
    "\n",
    "    \n",
    "    "
   ]
  },
  {
   "cell_type": "code",
   "execution_count": 22,
   "metadata": {},
   "outputs": [
    {
     "name": "stdout",
     "output_type": "stream",
     "text": [
      "1\n",
      "100\n",
      "1\n"
     ]
    }
   ],
   "source": [
    "for i in [1,100]:\n",
    "    print(i)"
   ]
  },
  {
   "cell_type": "code",
   "execution_count": null,
   "metadata": {},
   "outputs": [],
   "source": [
    "for i in []"
   ]
  }
 ],
 "metadata": {
  "kernelspec": {
   "display_name": "Python 3",
   "language": "python",
   "name": "python3"
  },
  "language_info": {
   "codemirror_mode": {
    "name": "ipython",
    "version": 3
   },
   "file_extension": ".py",
   "mimetype": "text/x-python",
   "name": "python",
   "nbconvert_exporter": "python",
   "pygments_lexer": "ipython3",
   "version": "3.6.4"
  }
 },
 "nbformat": 4,
 "nbformat_minor": 2
}
