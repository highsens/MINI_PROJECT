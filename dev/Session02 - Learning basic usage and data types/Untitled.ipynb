{
 "cells": [
  {
   "cell_type": "code",
   "execution_count": null,
   "metadata": {},
   "outputs": [],
   "source": [
    "### score 변수를 80으로 선언수 90점이상 a, 80~90점 b 이외 c 점수로 판단하는 조건문 작성 ###"
   ]
  },
  {
   "cell_type": "code",
   "execution_count": 6,
   "metadata": {},
   "outputs": [
    {
     "name": "stdout",
     "output_type": "stream",
     "text": [
      "B 등급\n"
     ]
    }
   ],
   "source": [
    "import numpy as np\n",
    "#score = np.linspace(1,100, num=50)\n",
    "score = 80\n",
    "if score >= 90:\n",
    "    print(\"A 등급\")\n",
    "elif score >= 80:\n",
    "    print(\"B 등급\")\n",
    "\n",
    "    else:\n",
    "    print(\"C 등급\")"
   ]
  },
  {
   "cell_type": "code",
   "execution_count": 42,
   "metadata": {},
   "outputs": [
    {
     "data": {
      "text/plain": [
       "8"
      ]
     },
     "execution_count": 42,
     "metadata": {},
     "output_type": "execute_result"
    }
   ],
   "source": [
    "def add(x=10,y=10):\n",
    "    return x+y\n",
    "\n",
    "add(5,3)"
   ]
  },
  {
   "cell_type": "code",
   "execution_count": 43,
   "metadata": {},
   "outputs": [],
   "source": [
    "사칙연산을 함수 있는 함수 생성, input x,y 받아서 처리 한다."
   ]
  },
  {
   "cell_type": "code",
   "execution_count": 45,
   "metadata": {},
   "outputs": [
    {
     "data": {
      "text/plain": [
       "10"
      ]
     },
     "execution_count": 45,
     "metadata": {},
     "output_type": "execute_result"
    }
   ],
   "source": [
    "int(a)"
   ]
  },
  {
   "cell_type": "raw",
   "metadata": {},
   "source": [
    "name = input(\"이름 넣여주쇼\")\n",
    "int(name)"
   ]
  },
  {
   "cell_type": "code",
   "execution_count": 51,
   "metadata": {},
   "outputs": [],
   "source": [
    "def add1(x=10,y=10):\n",
    "    return x+y\n",
    "def add2(x=10,y=10):\n",
    "    return x*y\n",
    "def min1(x=10,y=10):\n",
    "    return x-y\n",
    "def min2(x=10,y=10):\n",
    "    return x/y"
   ]
  },
  {
   "cell_type": "code",
   "execution_count": null,
   "metadata": {},
   "outputs": [],
   "source": [
    "x1 = input(\"첫번째 값 입력\")\n",
    "x2 = input(\"두번째 값 입력\")"
   ]
  },
  {
   "cell_type": "code",
   "execution_count": null,
   "metadata": {},
   "outputs": [],
   "source": []
  },
  {
   "cell_type": "code",
   "execution_count": null,
   "metadata": {},
   "outputs": [],
   "source": []
  },
  {
   "cell_type": "code",
   "execution_count": null,
   "metadata": {},
   "outputs": [],
   "source": []
  },
  {
   "cell_type": "code",
   "execution_count": null,
   "metadata": {},
   "outputs": [],
   "source": []
  },
  {
   "cell_type": "code",
   "execution_count": null,
   "metadata": {},
   "outputs": [],
   "source": []
  },
  {
   "cell_type": "code",
   "execution_count": null,
   "metadata": {},
   "outputs": [],
   "source": [
    "import numpy as np\n",
    "#score = np.linspace(1,100, num=50)\n",
    "score = np.random.rand(100)*100\n",
    "for i in range(1,100):\n",
    "    if score[i] >= 90:\n",
    "        print(\"점수 : \", score[i],\" , A 등급\")\n",
    "    elif score[i] >= 80:\n",
    "        print(\"점수 : \", score[i],\" , B 등급\")\n",
    "    else:   \n",
    "        print(\"점수 : \", score[i],\" , C 등급\")\n",
    "\n",
    "    \n",
    "    "
   ]
  },
  {
   "cell_type": "code",
   "execution_count": 22,
   "metadata": {},
   "outputs": [
    {
     "name": "stdout",
     "output_type": "stream",
     "text": [
      "1\n",
      "100\n",
      "1\n"
     ]
    }
   ],
   "source": [
    "for i in [1,100]:\n",
    "    print(i)"
   ]
  },
  {
   "cell_type": "code",
   "execution_count": null,
   "metadata": {},
   "outputs": [],
   "source": [
    "for i in []"
   ]
  }
 ],
 "metadata": {
  "kernelspec": {
   "display_name": "Python 3",
   "language": "python",
   "name": "python3"
  },
  "language_info": {
   "codemirror_mode": {
    "name": "ipython",
    "version": 3
   },
   "file_extension": ".py",
   "mimetype": "text/x-python",
   "name": "python",
   "nbconvert_exporter": "python",
   "pygments_lexer": "ipython3",
   "version": "3.6.4"
  }
 },
 "nbformat": 4,
 "nbformat_minor": 2
}
